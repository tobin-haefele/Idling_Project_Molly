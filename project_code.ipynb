{
 "cells": [
  {
   "cell_type": "code",
   "execution_count": 23,
   "metadata": {},
   "outputs": [],
   "source": [
    "#import libraries\n",
    "import pandas as pd\n",
    "from sodapy import Socrata\n",
    "import plotnine"
   ]
  },
  {
   "cell_type": "code",
   "execution_count": null,
   "metadata": {},
   "outputs": [],
   "source": [
    "# Unauthenticated client only works with public data sets. Note 'None'\n",
    "# in place of application token, and no username or password:\n",
    "client = Socrata(\"data.cityofnewyork.us\", None)\n",
    "\n",
    "# Example authenticated client (needed for non-public datasets):\n",
    "# client = Socrata(data.cityofnewyork.us,\n",
    "#                  MyAppToken,\n",
    "#                  username=\"user@example.com\",\n",
    "#                  password=\"AFakePassword\")\n",
    "\n",
    "# First 2000 results, returned as JSON from API / converted to Python list of\n",
    "# dictionaries by sodapy.\n",
    "results = client.get(\"ywmm-h8es\", offset=1000)\n",
    "\n",
    "# Convert to pandas DataFrame\n",
    "results_df = pd.DataFrame.from_records(results)\n"
   ]
  },
  {
   "cell_type": "code",
   "execution_count": null,
   "metadata": {},
   "outputs": [],
   "source": [
    "#import csv\n",
    "datacsv =  pd.read_csv('data/idling.csv')\n",
    "\n",
    "#view the first 5 rows of the data\n",
    "print(datacsv.head())"
   ]
  },
  {
   "cell_type": "code",
   "execution_count": 24,
   "metadata": {},
   "outputs": [],
   "source": [
    "#convvert ticket number to string, violation date to datetime, \n",
    "\n",
    "datacsv['Ticket Number'] = datacsv['Ticket Number'].astype(str)\n",
    "\n",
    "datacsv['Violation Date'] = pd.to_datetime(datacsv['Violation Date'])\n",
    "\n",
    "#create year and month col\n",
    "\n",
    "datacsv['Year'] = datacsv['Violation Date'].dt.year\n",
    "\n",
    "datacsv['Month'] = datacsv['Violation Date'].dt.month\n",
    "\n",
    "#group by year and month\n",
    "df_grouped = datacsv.groupby(['Year', 'Month']).size().reset_index(name='count')\n",
    "\n",
    "df_2024 = df_grouped[df_grouped['Year'] == 2024]\n"
   ]
  },
  {
   "cell_type": "code",
   "execution_count": 35,
   "metadata": {},
   "outputs": [
    {
     "name": "stdout",
     "output_type": "stream",
     "text": [
      "44391\n",
      "198164\n"
     ]
    }
   ],
   "source": [
    "#total count for 2024\n",
    "total_count = df_2024['count'].sum()\n",
    "\n",
    "print(total_count)\n",
    "\n",
    "#total count overall\n",
    "total_count_overall = df_grouped['count'].sum()\n",
    "\n",
    "print(total_count_overall)"
   ]
  },
  {
   "cell_type": "code",
   "execution_count": 40,
   "metadata": {},
   "outputs": [
    {
     "name": "stdout",
     "output_type": "stream",
     "text": [
      "0      0.0\n",
      "1      0.0\n",
      "2      0.0\n",
      "3    350.0\n",
      "4    420.0\n",
      "Name: Paid Amount, dtype: float64\n",
      "57855941.0\n",
      "57855941.0\n"
     ]
    }
   ],
   "source": [
    "#calculate the estimated revenue\n",
    "#assign float to Balance Due and Paid Amount\n",
    "datacsv['Balance Due'] = datacsv['Balance Due'].astype(float)\n",
    "\n",
    "datacsv['Paid Amount'] = datacsv['Paid Amount'].astype(float)\n",
    "\n",
    "print(datacsv['Paid Amount'].head())\n",
    "\n",
    "#calculate the estimated revenue\n",
    "estimated_revenue = datacsv['Paid Amount'].sum()\n",
    "\n",
    "print(estimated_revenue)\n",
    "\n",
    "#calculate actual revenue based on paid amount\n",
    "actual_revenue = datacsv['Paid Amount'].sum()\n",
    "\n",
    "print(actual_revenue)\n",
    "\n",
    "#percentage of "
   ]
  }
 ],
 "metadata": {
  "kernelspec": {
   "display_name": "Python 3",
   "language": "python",
   "name": "python3"
  },
  "language_info": {
   "codemirror_mode": {
    "name": "ipython",
    "version": 3
   },
   "file_extension": ".py",
   "mimetype": "text/x-python",
   "name": "python",
   "nbconvert_exporter": "python",
   "pygments_lexer": "ipython3",
   "version": "3.12.7"
  }
 },
 "nbformat": 4,
 "nbformat_minor": 2
}
